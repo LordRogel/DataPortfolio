{
 "cells": [
  {
   "cell_type": "markdown",
   "id": "968429a6",
   "metadata": {},
   "source": [
    "### About Dataset\n",
    "\n",
    "#### FinTech (Digital Wallet) Customer Lifetime Value (LTV) Dataset for Analysis\n",
    "\n",
    "##### Description:\n",
    "\n",
    "###### This dataset helps to predict the Customer Lifetime Value (LTV) for users of digital wallets, specifically targeting platforms like PayTM and Khalti. The dataset contains about 7,000 samples with 20 rich features capturing customer demographics, transaction history, engagement metrics, app usage patterns, support interactions, etc."
   ]
  },
  {
   "cell_type": "markdown",
   "id": "9dfd1782",
   "metadata": {},
   "source": [
    "### Project Goal\n",
    "\n",
    "#### Phase 1: Data Analysis. We will check the available data to profile the customer database, group users and take a first look to LVT. In order to understand what are the mosth valuable customers and where the potential opportunities are. \n",
    "\n",
    "#### Phase 2: Data Science:  Apply classification and regression models to the avaialable data, in order to predict the behavior for both the LVT and the mosth valuable customers segmentation.\n"
   ]
  },
  {
   "cell_type": "markdown",
   "id": "45534ff1",
   "metadata": {},
   "source": [
    "#### Project Blue print\n",
    "\n",
    "### 1: Data Analysis:\n",
    "\n",
    "#### A: Demographical distribution. Solves business questions: Who is my usual customer? Do I have younger or older customers? Are my customer high or low earners?\n",
    "#### - Avergae Age, Age histogram.\n",
    "#### - Income distribution by location. \n",
    "#### B: Transactional Analisis. Solves business questions: How do my customers spend? Is spend distributed evenly or focused on high value customers.\n",
    "#### - Total average transactions and spend\n",
    "#### - Spend distribution to find VIPs.\n",
    "\n",
    "### 2: Data Science:\n",
    "#### A: Prediction (Regression)\n",
    "\n",
    "#### Target: LVT\n",
    "##### - Forecast the LVT for a customer based on predictive model (Regression). So that and LVT can be estimated based on the customers trends. Answering question like \" This customer will represent an estimate revenue of 150 USD over the next 6 months\n",
    "\n",
    "#### B: Customer Profiling (Segmetation)\n",
    "##### - Create a customer profile based on the available data.\n",
    "\n",
    "###### * Data utilization insn't originally in the best shape, so normalization and data wrangling will be required."
   ]
  },
  {
   "cell_type": "code",
   "execution_count": 144,
   "id": "08c78e6b",
   "metadata": {},
   "outputs": [],
   "source": [
    "# We must start by importing the libraries and tools to be used\n",
    "import pandas as pd # To Analyse the data frame\n",
    "import matplotlib.pyplot as plt\n",
    "import streamlit as st\n",
    "import plotly.express as px"
   ]
  },
  {
   "cell_type": "markdown",
   "id": "eaace9bd",
   "metadata": {},
   "source": [
    "### Phase 1 : Data analysis\n",
    "#### We will do our customer profiling based on available data"
   ]
  },
  {
   "cell_type": "markdown",
   "id": "e092bfa5",
   "metadata": {},
   "source": [
    "### EDA: The goal here is to check what data is available, and what can be used out of the box, what needs tranformation and what is truly meaningful for the regression model. "
   ]
  },
  {
   "cell_type": "code",
   "execution_count": 145,
   "id": "08f638e4",
   "metadata": {},
   "outputs": [
    {
     "data": {
      "text/plain": [
       "['Customer_ID',\n",
       " 'Age',\n",
       " 'Location',\n",
       " 'Income_Level',\n",
       " 'Total_Transactions',\n",
       " 'Avg_Transaction_Value',\n",
       " 'Max_Transaction_Value',\n",
       " 'Min_Transaction_Value',\n",
       " 'Total_Spent',\n",
       " 'Active_Days',\n",
       " 'Last_Transaction_Days_Ago',\n",
       " 'Loyalty_Points_Earned',\n",
       " 'Referral_Count',\n",
       " 'Cashback_Received',\n",
       " 'App_Usage_Frequency',\n",
       " 'Preferred_Payment_Method',\n",
       " 'Support_Tickets_Raised',\n",
       " 'Issue_Resolution_Time',\n",
       " 'Customer_Satisfaction_Score',\n",
       " 'LTV']"
      ]
     },
     "execution_count": 145,
     "metadata": {},
     "output_type": "execute_result"
    }
   ],
   "source": [
    "df = pd.read_csv(\"digital_wallet_ltv_dataset.csv\") # We startt by checkign the available columns, this provides the first look of the captured data.\n",
    "list(df)\n",
    "# Based on this we can determine which columns to use.\n",
    "# In this case we might need to groups data in separate sets, as the full columns include demographic and economic data."
   ]
  },
  {
   "cell_type": "code",
   "execution_count": 146,
   "id": "43dc271a",
   "metadata": {},
   "outputs": [
    {
     "data": {
      "text/plain": [
       "np.int64(0)"
      ]
     },
     "execution_count": 146,
     "metadata": {},
     "output_type": "execute_result"
    }
   ],
   "source": [
    "df.isnull().sum().sum() # We need to check for missing values, as this can impact the analysis and model performance.\n",
    "# it is important o know that the vectorized logic of pandas allows us to check null values just using the sum option. \n",
    "# when we do it the firt time, it will check the first axis. (Colums like) when we do it twcice it will do the same horizontally.\n",
    "# As this is exploratory,we won't save the data in any nbew data frame here"
   ]
  },
  {
   "cell_type": "code",
   "execution_count": 147,
   "id": "448960a2",
   "metadata": {},
   "outputs": [],
   "source": [
    "# Out of the columns, we can group them as follows:\n",
    "# 1. Demographic Data: age, Location, income level. Which is great for customer profiling\n",
    "# 2. Transaction History: total transactions, average transaction value, Max and Min, And Total spend This is great for understanding customer behavior\n",
    "# 3. Customer Lifetime Value (LTV): This is the target variable we want to predict."
   ]
  },
  {
   "cell_type": "code",
   "execution_count": 148,
   "id": "eb9e3710",
   "metadata": {},
   "outputs": [],
   "source": [
    "Demographic_Data = df[[\"Age\",\"Location\",\"Income_Level\"]]\n",
    "Transaction_Trends = df[[\"Customer_ID\" ,'Total_Transactions',\n",
    " 'Avg_Transaction_Value',\n",
    " 'Max_Transaction_Value',\n",
    " 'Min_Transaction_Value',\n",
    " 'Total_Spent']]\n",
    "Engament = df[[\"Support_Tickets_Raised\",\"Issue_Resolution_Time\",\"Customer_Satisfaction_Score\"]]\n",
    "ltv = df[\"LTV\"]"
   ]
  },
  {
   "cell_type": "markdown",
   "id": "535f94fe",
   "metadata": {},
   "source": [
    "##### Now starts the fun part, we are going to draw the picture of our customers. Who they are, were are they located, what is their income level?\n",
    "##### We have to look at the numbers to create demographic profiles"
   ]
  },
  {
   "cell_type": "code",
   "execution_count": 149,
   "id": "51f95868",
   "metadata": {},
   "outputs": [
    {
     "data": {
      "text/plain": [
       "array(['Urban', 'Suburban', 'Rural'], dtype=object)"
      ]
     },
     "execution_count": 149,
     "metadata": {},
     "output_type": "execute_result"
    }
   ],
   "source": [
    "# First we will check what values do we have to work with for both Location and Income level\n",
    "Demographic_Data[\"Location\"].unique()"
   ]
  },
  {
   "cell_type": "code",
   "execution_count": 150,
   "id": "7da6d6bc",
   "metadata": {},
   "outputs": [
    {
     "data": {
      "text/plain": [
       "array(['Low', 'High', 'Middle'], dtype=object)"
      ]
     },
     "execution_count": 150,
     "metadata": {},
     "output_type": "execute_result"
    }
   ],
   "source": [
    "Demographic_Data[\"Income_Level\"].unique()"
   ]
  },
  {
   "cell_type": "code",
   "execution_count": 151,
   "id": "d8354166",
   "metadata": {},
   "outputs": [
    {
     "data": {
      "text/plain": [
       "np.float64(42.633714285714284)"
      ]
     },
     "execution_count": 151,
     "metadata": {},
     "output_type": "execute_result"
    }
   ],
   "source": [
    "# Age could be tricky, but is super rich as can provide differnet groups and buckets in ranges. <25 , 25-40, 40-60 , >60\n",
    "# We will start with an average, as it is always good to know.\n",
    "\n",
    "Demographic_Data_Age_Mean = Demographic_Data[\"Age\"].mean()\n",
    "Demographic_Data_Age_Mean\n",
    "\n",
    "# WARNING, this is the first average as we mioght get a byas due to outliers like too high or too low values, but we will check on that latter. "
   ]
  },
  {
   "cell_type": "code",
   "execution_count": 152,
   "id": "a67a8128",
   "metadata": {},
   "outputs": [
    {
     "name": "stderr",
     "output_type": "stream",
     "text": [
      "/var/folders/_8/qx6d6lxx2ync_zj4pp9kllkr0000gq/T/ipykernel_12967/1581875538.py:3: SettingWithCopyWarning:\n",
      "\n",
      "\n",
      "A value is trying to be set on a copy of a slice from a DataFrame.\n",
      "Try using .loc[row_indexer,col_indexer] = value instead\n",
      "\n",
      "See the caveats in the documentation: https://pandas.pydata.org/pandas-docs/stable/user_guide/indexing.html#returning-a-view-versus-a-copy\n",
      "\n",
      "/var/folders/_8/qx6d6lxx2ync_zj4pp9kllkr0000gq/T/ipykernel_12967/1581875538.py:5: SettingWithCopyWarning:\n",
      "\n",
      "\n",
      "A value is trying to be set on a copy of a slice from a DataFrame.\n",
      "Try using .loc[row_indexer,col_indexer] = value instead\n",
      "\n",
      "See the caveats in the documentation: https://pandas.pydata.org/pandas-docs/stable/user_guide/indexing.html#returning-a-view-versus-a-copy\n",
      "\n"
     ]
    },
    {
     "data": {
      "text/html": [
       "<div>\n",
       "<style scoped>\n",
       "    .dataframe tbody tr th:only-of-type {\n",
       "        vertical-align: middle;\n",
       "    }\n",
       "\n",
       "    .dataframe tbody tr th {\n",
       "        vertical-align: top;\n",
       "    }\n",
       "\n",
       "    .dataframe thead th {\n",
       "        text-align: right;\n",
       "    }\n",
       "</style>\n",
       "<table border=\"1\" class=\"dataframe\">\n",
       "  <thead>\n",
       "    <tr style=\"text-align: right;\">\n",
       "      <th></th>\n",
       "      <th>Age</th>\n",
       "      <th>Location</th>\n",
       "      <th>Income_Level</th>\n",
       "      <th>Age_Range</th>\n",
       "    </tr>\n",
       "  </thead>\n",
       "  <tbody>\n",
       "    <tr>\n",
       "      <th>0</th>\n",
       "      <td>54</td>\n",
       "      <td>Urban</td>\n",
       "      <td>Low</td>\n",
       "      <td>Group 3</td>\n",
       "    </tr>\n",
       "    <tr>\n",
       "      <th>1</th>\n",
       "      <td>67</td>\n",
       "      <td>Suburban</td>\n",
       "      <td>High</td>\n",
       "      <td>Group 4</td>\n",
       "    </tr>\n",
       "    <tr>\n",
       "      <th>2</th>\n",
       "      <td>44</td>\n",
       "      <td>Urban</td>\n",
       "      <td>High</td>\n",
       "      <td>Group 3</td>\n",
       "    </tr>\n",
       "    <tr>\n",
       "      <th>3</th>\n",
       "      <td>30</td>\n",
       "      <td>Rural</td>\n",
       "      <td>High</td>\n",
       "      <td>Group 2</td>\n",
       "    </tr>\n",
       "    <tr>\n",
       "      <th>4</th>\n",
       "      <td>58</td>\n",
       "      <td>Urban</td>\n",
       "      <td>Middle</td>\n",
       "      <td>Group 3</td>\n",
       "    </tr>\n",
       "    <tr>\n",
       "      <th>...</th>\n",
       "      <td>...</td>\n",
       "      <td>...</td>\n",
       "      <td>...</td>\n",
       "      <td>...</td>\n",
       "    </tr>\n",
       "    <tr>\n",
       "      <th>6995</th>\n",
       "      <td>68</td>\n",
       "      <td>Suburban</td>\n",
       "      <td>High</td>\n",
       "      <td>Group 4</td>\n",
       "    </tr>\n",
       "    <tr>\n",
       "      <th>6996</th>\n",
       "      <td>62</td>\n",
       "      <td>Suburban</td>\n",
       "      <td>High</td>\n",
       "      <td>Group 4</td>\n",
       "    </tr>\n",
       "    <tr>\n",
       "      <th>6997</th>\n",
       "      <td>16</td>\n",
       "      <td>Urban</td>\n",
       "      <td>Middle</td>\n",
       "      <td>Group 1</td>\n",
       "    </tr>\n",
       "    <tr>\n",
       "      <th>6998</th>\n",
       "      <td>32</td>\n",
       "      <td>Urban</td>\n",
       "      <td>High</td>\n",
       "      <td>Group 2</td>\n",
       "    </tr>\n",
       "    <tr>\n",
       "      <th>6999</th>\n",
       "      <td>17</td>\n",
       "      <td>Suburban</td>\n",
       "      <td>Middle</td>\n",
       "      <td>Group 1</td>\n",
       "    </tr>\n",
       "  </tbody>\n",
       "</table>\n",
       "<p>7000 rows × 4 columns</p>\n",
       "</div>"
      ],
      "text/plain": [
       "      Age  Location Income_Level Age_Range\n",
       "0      54     Urban          Low   Group 3\n",
       "1      67  Suburban         High   Group 4\n",
       "2      44     Urban         High   Group 3\n",
       "3      30     Rural         High   Group 2\n",
       "4      58     Urban       Middle   Group 3\n",
       "...   ...       ...          ...       ...\n",
       "6995   68  Suburban         High   Group 4\n",
       "6996   62  Suburban         High   Group 4\n",
       "6997   16     Urban       Middle   Group 1\n",
       "6998   32     Urban         High   Group 2\n",
       "6999   17  Suburban       Middle   Group 1\n",
       "\n",
       "[7000 rows x 4 columns]"
      ]
     },
     "execution_count": 152,
     "metadata": {},
     "output_type": "execute_result"
    }
   ],
   "source": [
    "# Now, lets create our ranges.\n",
    "#first we will add a column to place our informaiton in\n",
    "Demographic_Data[\"Age_Range\"] = 0 # Initialized in 0\n",
    "# Now we will fill it in with the comparison\n",
    "Demographic_Data[\"Age_Range\"] = (\n",
    "# Here we will compare our value in the column \"Age\" with the created condition of groups from 1 to 4. and applying the comparison to each of the cells, to then capture the information in the new colum \"age Range\"\n",
    "    Demographic_Data[\"Age\"].apply( lambda x: \"Group 1\" if x < 25 else (\"Group 2\" if 25 <= x < 40 else ( \"Group 3\" if 40 <= x < 60 else ( \"Group 4\" if x >= 60 else 0 ))))\n",
    "\n",
    ")\n",
    "Demographic_Data\n"
   ]
  },
  {
   "cell_type": "code",
   "execution_count": 153,
   "id": "bdd0633e",
   "metadata": {},
   "outputs": [
    {
     "data": {
      "text/html": [
       "<div>\n",
       "<style scoped>\n",
       "    .dataframe tbody tr th:only-of-type {\n",
       "        vertical-align: middle;\n",
       "    }\n",
       "\n",
       "    .dataframe tbody tr th {\n",
       "        vertical-align: top;\n",
       "    }\n",
       "\n",
       "    .dataframe thead th {\n",
       "        text-align: right;\n",
       "    }\n",
       "</style>\n",
       "<table border=\"1\" class=\"dataframe\">\n",
       "  <thead>\n",
       "    <tr style=\"text-align: right;\">\n",
       "      <th></th>\n",
       "      <th>Age</th>\n",
       "      <th>Location</th>\n",
       "      <th>Income_Level</th>\n",
       "    </tr>\n",
       "    <tr>\n",
       "      <th>Age_Range</th>\n",
       "      <th></th>\n",
       "      <th></th>\n",
       "      <th></th>\n",
       "    </tr>\n",
       "  </thead>\n",
       "  <tbody>\n",
       "    <tr>\n",
       "      <th>Group 1</th>\n",
       "      <td>1129</td>\n",
       "      <td>1129</td>\n",
       "      <td>1129</td>\n",
       "    </tr>\n",
       "    <tr>\n",
       "      <th>Group 2</th>\n",
       "      <td>1962</td>\n",
       "      <td>1962</td>\n",
       "      <td>1962</td>\n",
       "    </tr>\n",
       "    <tr>\n",
       "      <th>Group 3</th>\n",
       "      <td>2581</td>\n",
       "      <td>2581</td>\n",
       "      <td>2581</td>\n",
       "    </tr>\n",
       "    <tr>\n",
       "      <th>Group 4</th>\n",
       "      <td>1328</td>\n",
       "      <td>1328</td>\n",
       "      <td>1328</td>\n",
       "    </tr>\n",
       "  </tbody>\n",
       "</table>\n",
       "</div>"
      ],
      "text/plain": [
       "            Age  Location  Income_Level\n",
       "Age_Range                              \n",
       "Group 1    1129      1129          1129\n",
       "Group 2    1962      1962          1962\n",
       "Group 3    2581      2581          2581\n",
       "Group 4    1328      1328          1328"
      ]
     },
     "execution_count": 153,
     "metadata": {},
     "output_type": "execute_result"
    }
   ],
   "source": [
    "# Using a group by we can cehck that all groups have been created, as we could have value sin 0 as no comparison took place. \n",
    "Demographic_Data.groupby(\"Age_Range\").count()\n",
    "\n",
    "# This also allows to see if there is a major group to take into account. Now, as the differences between each group aren't too significant. \n",
    "# We shoudl consider all groups, however, there is an slighly difference  for the group 3. Which could provide a mile MVC just due to the customer base."
   ]
  },
  {
   "cell_type": "code",
   "execution_count": 154,
   "id": "f5adf420",
   "metadata": {},
   "outputs": [],
   "source": [
    "# This will be the slice for each group. Something we can use latter to call each group. \n",
    "Age_below_25 = Demographic_Data[Demographic_Data[\"Age_Range\"] == \"Group 1\"]\n",
    "Age_between_25_and_40 = Demographic_Data[Demographic_Data[\"Age_Range\"] == \"Group 2\"]\n",
    "Age_between_40_and_60 =Demographic_Data[Demographic_Data[\"Age_Range\"] == \"Group 3\"]\n",
    "Age_above_60 = Demographic_Data[Demographic_Data[\"Age_Range\"] == \"Group 4\"]"
   ]
  },
  {
   "cell_type": "code",
   "execution_count": 155,
   "id": "4b566f4a",
   "metadata": {},
   "outputs": [
    {
     "data": {
      "text/html": [
       "<div>\n",
       "<style scoped>\n",
       "    .dataframe tbody tr th:only-of-type {\n",
       "        vertical-align: middle;\n",
       "    }\n",
       "\n",
       "    .dataframe tbody tr th {\n",
       "        vertical-align: top;\n",
       "    }\n",
       "\n",
       "    .dataframe thead th {\n",
       "        text-align: right;\n",
       "    }\n",
       "</style>\n",
       "<table border=\"1\" class=\"dataframe\">\n",
       "  <thead>\n",
       "    <tr style=\"text-align: right;\">\n",
       "      <th></th>\n",
       "      <th>Age</th>\n",
       "    </tr>\n",
       "  </thead>\n",
       "  <tbody>\n",
       "    <tr>\n",
       "      <th>count</th>\n",
       "      <td>1129.000000</td>\n",
       "    </tr>\n",
       "    <tr>\n",
       "      <th>mean</th>\n",
       "      <td>19.951284</td>\n",
       "    </tr>\n",
       "    <tr>\n",
       "      <th>std</th>\n",
       "      <td>2.587189</td>\n",
       "    </tr>\n",
       "    <tr>\n",
       "      <th>min</th>\n",
       "      <td>16.000000</td>\n",
       "    </tr>\n",
       "    <tr>\n",
       "      <th>25%</th>\n",
       "      <td>18.000000</td>\n",
       "    </tr>\n",
       "    <tr>\n",
       "      <th>50%</th>\n",
       "      <td>20.000000</td>\n",
       "    </tr>\n",
       "    <tr>\n",
       "      <th>75%</th>\n",
       "      <td>22.000000</td>\n",
       "    </tr>\n",
       "    <tr>\n",
       "      <th>max</th>\n",
       "      <td>24.000000</td>\n",
       "    </tr>\n",
       "  </tbody>\n",
       "</table>\n",
       "</div>"
      ],
      "text/plain": [
       "               Age\n",
       "count  1129.000000\n",
       "mean     19.951284\n",
       "std       2.587189\n",
       "min      16.000000\n",
       "25%      18.000000\n",
       "50%      20.000000\n",
       "75%      22.000000\n",
       "max      24.000000"
      ]
     },
     "execution_count": 155,
     "metadata": {},
     "output_type": "execute_result"
    }
   ],
   "source": [
    "# We will do an initial observation of the age information. here we will see  mean, min and max values, the stanadar deviation between all counts, etc. \n",
    "Age_below_25.describe()"
   ]
  },
  {
   "cell_type": "code",
   "execution_count": 156,
   "id": "d4795639",
   "metadata": {},
   "outputs": [
    {
     "data": {
      "text/html": [
       "<div>\n",
       "<style scoped>\n",
       "    .dataframe tbody tr th:only-of-type {\n",
       "        vertical-align: middle;\n",
       "    }\n",
       "\n",
       "    .dataframe tbody tr th {\n",
       "        vertical-align: top;\n",
       "    }\n",
       "\n",
       "    .dataframe thead th {\n",
       "        text-align: right;\n",
       "    }\n",
       "</style>\n",
       "<table border=\"1\" class=\"dataframe\">\n",
       "  <thead>\n",
       "    <tr style=\"text-align: right;\">\n",
       "      <th></th>\n",
       "      <th>Age</th>\n",
       "    </tr>\n",
       "  </thead>\n",
       "  <tbody>\n",
       "    <tr>\n",
       "      <th>count</th>\n",
       "      <td>1962.000000</td>\n",
       "    </tr>\n",
       "    <tr>\n",
       "      <th>mean</th>\n",
       "      <td>32.108563</td>\n",
       "    </tr>\n",
       "    <tr>\n",
       "      <th>std</th>\n",
       "      <td>4.316629</td>\n",
       "    </tr>\n",
       "    <tr>\n",
       "      <th>min</th>\n",
       "      <td>25.000000</td>\n",
       "    </tr>\n",
       "    <tr>\n",
       "      <th>25%</th>\n",
       "      <td>28.000000</td>\n",
       "    </tr>\n",
       "    <tr>\n",
       "      <th>50%</th>\n",
       "      <td>32.000000</td>\n",
       "    </tr>\n",
       "    <tr>\n",
       "      <th>75%</th>\n",
       "      <td>36.000000</td>\n",
       "    </tr>\n",
       "    <tr>\n",
       "      <th>max</th>\n",
       "      <td>39.000000</td>\n",
       "    </tr>\n",
       "  </tbody>\n",
       "</table>\n",
       "</div>"
      ],
      "text/plain": [
       "               Age\n",
       "count  1962.000000\n",
       "mean     32.108563\n",
       "std       4.316629\n",
       "min      25.000000\n",
       "25%      28.000000\n",
       "50%      32.000000\n",
       "75%      36.000000\n",
       "max      39.000000"
      ]
     },
     "execution_count": 156,
     "metadata": {},
     "output_type": "execute_result"
    }
   ],
   "source": [
    "Age_between_25_and_40.describe()"
   ]
  },
  {
   "cell_type": "code",
   "execution_count": 157,
   "id": "5cdbc007",
   "metadata": {},
   "outputs": [
    {
     "data": {
      "text/html": [
       "<div>\n",
       "<style scoped>\n",
       "    .dataframe tbody tr th:only-of-type {\n",
       "        vertical-align: middle;\n",
       "    }\n",
       "\n",
       "    .dataframe tbody tr th {\n",
       "        vertical-align: top;\n",
       "    }\n",
       "\n",
       "    .dataframe thead th {\n",
       "        text-align: right;\n",
       "    }\n",
       "</style>\n",
       "<table border=\"1\" class=\"dataframe\">\n",
       "  <thead>\n",
       "    <tr style=\"text-align: right;\">\n",
       "      <th></th>\n",
       "      <th>Age</th>\n",
       "    </tr>\n",
       "  </thead>\n",
       "  <tbody>\n",
       "    <tr>\n",
       "      <th>count</th>\n",
       "      <td>2581.000000</td>\n",
       "    </tr>\n",
       "    <tr>\n",
       "      <th>mean</th>\n",
       "      <td>49.341341</td>\n",
       "    </tr>\n",
       "    <tr>\n",
       "      <th>std</th>\n",
       "      <td>5.715621</td>\n",
       "    </tr>\n",
       "    <tr>\n",
       "      <th>min</th>\n",
       "      <td>40.000000</td>\n",
       "    </tr>\n",
       "    <tr>\n",
       "      <th>25%</th>\n",
       "      <td>44.000000</td>\n",
       "    </tr>\n",
       "    <tr>\n",
       "      <th>50%</th>\n",
       "      <td>49.000000</td>\n",
       "    </tr>\n",
       "    <tr>\n",
       "      <th>75%</th>\n",
       "      <td>54.000000</td>\n",
       "    </tr>\n",
       "    <tr>\n",
       "      <th>max</th>\n",
       "      <td>59.000000</td>\n",
       "    </tr>\n",
       "  </tbody>\n",
       "</table>\n",
       "</div>"
      ],
      "text/plain": [
       "               Age\n",
       "count  2581.000000\n",
       "mean     49.341341\n",
       "std       5.715621\n",
       "min      40.000000\n",
       "25%      44.000000\n",
       "50%      49.000000\n",
       "75%      54.000000\n",
       "max      59.000000"
      ]
     },
     "execution_count": 157,
     "metadata": {},
     "output_type": "execute_result"
    }
   ],
   "source": [
    "Age_between_40_and_60.describe()"
   ]
  },
  {
   "cell_type": "code",
   "execution_count": 158,
   "id": "64ce7f35",
   "metadata": {},
   "outputs": [
    {
     "data": {
      "text/html": [
       "<div>\n",
       "<style scoped>\n",
       "    .dataframe tbody tr th:only-of-type {\n",
       "        vertical-align: middle;\n",
       "    }\n",
       "\n",
       "    .dataframe tbody tr th {\n",
       "        vertical-align: top;\n",
       "    }\n",
       "\n",
       "    .dataframe thead th {\n",
       "        text-align: right;\n",
       "    }\n",
       "</style>\n",
       "<table border=\"1\" class=\"dataframe\">\n",
       "  <thead>\n",
       "    <tr style=\"text-align: right;\">\n",
       "      <th></th>\n",
       "      <th>Age</th>\n",
       "    </tr>\n",
       "  </thead>\n",
       "  <tbody>\n",
       "    <tr>\n",
       "      <th>count</th>\n",
       "      <td>1328.000000</td>\n",
       "    </tr>\n",
       "    <tr>\n",
       "      <th>mean</th>\n",
       "      <td>64.430723</td>\n",
       "    </tr>\n",
       "    <tr>\n",
       "      <th>std</th>\n",
       "      <td>2.922721</td>\n",
       "    </tr>\n",
       "    <tr>\n",
       "      <th>min</th>\n",
       "      <td>60.000000</td>\n",
       "    </tr>\n",
       "    <tr>\n",
       "      <th>25%</th>\n",
       "      <td>62.000000</td>\n",
       "    </tr>\n",
       "    <tr>\n",
       "      <th>50%</th>\n",
       "      <td>64.000000</td>\n",
       "    </tr>\n",
       "    <tr>\n",
       "      <th>75%</th>\n",
       "      <td>67.000000</td>\n",
       "    </tr>\n",
       "    <tr>\n",
       "      <th>max</th>\n",
       "      <td>69.000000</td>\n",
       "    </tr>\n",
       "  </tbody>\n",
       "</table>\n",
       "</div>"
      ],
      "text/plain": [
       "               Age\n",
       "count  1328.000000\n",
       "mean     64.430723\n",
       "std       2.922721\n",
       "min      60.000000\n",
       "25%      62.000000\n",
       "50%      64.000000\n",
       "75%      67.000000\n",
       "max      69.000000"
      ]
     },
     "execution_count": 158,
     "metadata": {},
     "output_type": "execute_result"
    }
   ],
   "source": [
    "Age_above_60.describe()"
   ]
  },
  {
   "cell_type": "markdown",
   "id": "75746528",
   "metadata": {},
   "source": [
    "### While this information is already enough to describe some of our customers, it is not the final approach, as we want to answer \" who are they? \""
   ]
  },
  {
   "cell_type": "code",
   "execution_count": 159,
   "id": "d080784a",
   "metadata": {},
   "outputs": [
    {
     "data": {
      "text/html": [
       "<div>\n",
       "<style scoped>\n",
       "    .dataframe tbody tr th:only-of-type {\n",
       "        vertical-align: middle;\n",
       "    }\n",
       "\n",
       "    .dataframe tbody tr th {\n",
       "        vertical-align: top;\n",
       "    }\n",
       "\n",
       "    .dataframe thead th {\n",
       "        text-align: right;\n",
       "    }\n",
       "</style>\n",
       "<table border=\"1\" class=\"dataframe\">\n",
       "  <thead>\n",
       "    <tr style=\"text-align: right;\">\n",
       "      <th></th>\n",
       "      <th>Age_Range</th>\n",
       "      <th>Income_Level</th>\n",
       "      <th>Age</th>\n",
       "      <th>Location</th>\n",
       "    </tr>\n",
       "  </thead>\n",
       "  <tbody>\n",
       "    <tr>\n",
       "      <th>0</th>\n",
       "      <td>Group 1</td>\n",
       "      <td>High</td>\n",
       "      <td>381</td>\n",
       "      <td>381</td>\n",
       "    </tr>\n",
       "    <tr>\n",
       "      <th>1</th>\n",
       "      <td>Group 1</td>\n",
       "      <td>Low</td>\n",
       "      <td>374</td>\n",
       "      <td>374</td>\n",
       "    </tr>\n",
       "    <tr>\n",
       "      <th>2</th>\n",
       "      <td>Group 1</td>\n",
       "      <td>Middle</td>\n",
       "      <td>374</td>\n",
       "      <td>374</td>\n",
       "    </tr>\n",
       "    <tr>\n",
       "      <th>3</th>\n",
       "      <td>Group 2</td>\n",
       "      <td>High</td>\n",
       "      <td>632</td>\n",
       "      <td>632</td>\n",
       "    </tr>\n",
       "    <tr>\n",
       "      <th>4</th>\n",
       "      <td>Group 2</td>\n",
       "      <td>Low</td>\n",
       "      <td>667</td>\n",
       "      <td>667</td>\n",
       "    </tr>\n",
       "    <tr>\n",
       "      <th>5</th>\n",
       "      <td>Group 2</td>\n",
       "      <td>Middle</td>\n",
       "      <td>663</td>\n",
       "      <td>663</td>\n",
       "    </tr>\n",
       "    <tr>\n",
       "      <th>6</th>\n",
       "      <td>Group 3</td>\n",
       "      <td>High</td>\n",
       "      <td>850</td>\n",
       "      <td>850</td>\n",
       "    </tr>\n",
       "    <tr>\n",
       "      <th>7</th>\n",
       "      <td>Group 3</td>\n",
       "      <td>Low</td>\n",
       "      <td>841</td>\n",
       "      <td>841</td>\n",
       "    </tr>\n",
       "    <tr>\n",
       "      <th>8</th>\n",
       "      <td>Group 3</td>\n",
       "      <td>Middle</td>\n",
       "      <td>890</td>\n",
       "      <td>890</td>\n",
       "    </tr>\n",
       "    <tr>\n",
       "      <th>9</th>\n",
       "      <td>Group 4</td>\n",
       "      <td>High</td>\n",
       "      <td>435</td>\n",
       "      <td>435</td>\n",
       "    </tr>\n",
       "    <tr>\n",
       "      <th>10</th>\n",
       "      <td>Group 4</td>\n",
       "      <td>Low</td>\n",
       "      <td>429</td>\n",
       "      <td>429</td>\n",
       "    </tr>\n",
       "    <tr>\n",
       "      <th>11</th>\n",
       "      <td>Group 4</td>\n",
       "      <td>Middle</td>\n",
       "      <td>464</td>\n",
       "      <td>464</td>\n",
       "    </tr>\n",
       "  </tbody>\n",
       "</table>\n",
       "</div>"
      ],
      "text/plain": [
       "   Age_Range Income_Level  Age  Location\n",
       "0    Group 1         High  381       381\n",
       "1    Group 1          Low  374       374\n",
       "2    Group 1       Middle  374       374\n",
       "3    Group 2         High  632       632\n",
       "4    Group 2          Low  667       667\n",
       "5    Group 2       Middle  663       663\n",
       "6    Group 3         High  850       850\n",
       "7    Group 3          Low  841       841\n",
       "8    Group 3       Middle  890       890\n",
       "9    Group 4         High  435       435\n",
       "10   Group 4          Low  429       429\n",
       "11   Group 4       Middle  464       464"
      ]
     },
     "execution_count": 159,
     "metadata": {},
     "output_type": "execute_result"
    }
   ],
   "source": [
    "Group_X_Income = Demographic_Data.groupby([\"Age_Range\",\"Income_Level\"]).count().reset_index()\n",
    "Group_X_Income"
   ]
  },
  {
   "cell_type": "code",
   "execution_count": 160,
   "id": "497866ce",
   "metadata": {},
   "outputs": [
    {
     "data": {
      "text/html": [
       "<div>\n",
       "<style scoped>\n",
       "    .dataframe tbody tr th:only-of-type {\n",
       "        vertical-align: middle;\n",
       "    }\n",
       "\n",
       "    .dataframe tbody tr th {\n",
       "        vertical-align: top;\n",
       "    }\n",
       "\n",
       "    .dataframe thead th {\n",
       "        text-align: right;\n",
       "    }\n",
       "</style>\n",
       "<table border=\"1\" class=\"dataframe\">\n",
       "  <thead>\n",
       "    <tr style=\"text-align: right;\">\n",
       "      <th>Income_Level</th>\n",
       "      <th>High</th>\n",
       "      <th>Low</th>\n",
       "      <th>Middle</th>\n",
       "    </tr>\n",
       "    <tr>\n",
       "      <th>Age_Range</th>\n",
       "      <th></th>\n",
       "      <th></th>\n",
       "      <th></th>\n",
       "    </tr>\n",
       "  </thead>\n",
       "  <tbody>\n",
       "    <tr>\n",
       "      <th>Group 1</th>\n",
       "      <td>381</td>\n",
       "      <td>374</td>\n",
       "      <td>374</td>\n",
       "    </tr>\n",
       "    <tr>\n",
       "      <th>Group 2</th>\n",
       "      <td>632</td>\n",
       "      <td>667</td>\n",
       "      <td>663</td>\n",
       "    </tr>\n",
       "    <tr>\n",
       "      <th>Group 3</th>\n",
       "      <td>850</td>\n",
       "      <td>841</td>\n",
       "      <td>890</td>\n",
       "    </tr>\n",
       "    <tr>\n",
       "      <th>Group 4</th>\n",
       "      <td>435</td>\n",
       "      <td>429</td>\n",
       "      <td>464</td>\n",
       "    </tr>\n",
       "  </tbody>\n",
       "</table>\n",
       "</div>"
      ],
      "text/plain": [
       "Income_Level  High  Low  Middle\n",
       "Age_Range                      \n",
       "Group 1        381  374     374\n",
       "Group 2        632  667     663\n",
       "Group 3        850  841     890\n",
       "Group 4        435  429     464"
      ]
     },
     "execution_count": 160,
     "metadata": {},
     "output_type": "execute_result"
    }
   ],
   "source": [
    "# As the previous group by is an aproximation and eventually we want to graph the informaiton to provide meaningfull \n",
    "# insights, we need to create a useful table using \" Pivot\". Here we will make sure to use our groups as index and the income level as columns.\n",
    "# WE could use both age or Location as values as both were counts previously.\n",
    "\n",
    "GXI_Summary = Group_X_Income.pivot(\n",
    "    index = \"Age_Range\",\n",
    "    columns = \"Income_Level\",\n",
    "    values = \"Age\"\n",
    ")\n",
    "GXI_Summary"
   ]
  },
  {
   "cell_type": "code",
   "execution_count": 192,
   "id": "9d99318d",
   "metadata": {},
   "outputs": [
    {
     "data": {
      "image/png": "[encoded data removed]",
      "text/plain": [
       "<Figure size 640x480 with 1 Axes>"
      ]
     },
     "metadata": {},
     "output_type": "display_data"
    }
   ],
   "source": [
    "GXI_Summary.plot(\n",
    "    kind = \"bar\",\n",
    "    title= \"Income level by Age Range\",\n",
    "    ylabel= \"Income Level\",\n",
    "    xlabel= \"Age Range\",\n",
    ")\n",
    "\n",
    "plt.show()\n",
    "# Now we do know the distribution for age and income level, but we are leaving the location behind."
   ]
  },
  {
   "cell_type": "code",
   "execution_count": 180,
   "id": "7687c192",
   "metadata": {},
   "outputs": [
    {
     "data": {
      "text/html": [
       "<div>\n",
       "<style scoped>\n",
       "    .dataframe tbody tr th:only-of-type {\n",
       "        vertical-align: middle;\n",
       "    }\n",
       "\n",
       "    .dataframe tbody tr th {\n",
       "        vertical-align: top;\n",
       "    }\n",
       "\n",
       "    .dataframe thead th {\n",
       "        text-align: right;\n",
       "    }\n",
       "</style>\n",
       "<table border=\"1\" class=\"dataframe\">\n",
       "  <thead>\n",
       "    <tr style=\"text-align: right;\">\n",
       "      <th></th>\n",
       "      <th>Age_Range</th>\n",
       "      <th>Location</th>\n",
       "      <th>Age</th>\n",
       "      <th>Income_Level</th>\n",
       "    </tr>\n",
       "  </thead>\n",
       "  <tbody>\n",
       "    <tr>\n",
       "      <th>0</th>\n",
       "      <td>Group 1</td>\n",
       "      <td>Rural</td>\n",
       "      <td>376</td>\n",
       "      <td>376</td>\n",
       "    </tr>\n",
       "    <tr>\n",
       "      <th>1</th>\n",
       "      <td>Group 1</td>\n",
       "      <td>Suburban</td>\n",
       "      <td>357</td>\n",
       "      <td>357</td>\n",
       "    </tr>\n",
       "    <tr>\n",
       "      <th>2</th>\n",
       "      <td>Group 1</td>\n",
       "      <td>Urban</td>\n",
       "      <td>396</td>\n",
       "      <td>396</td>\n",
       "    </tr>\n",
       "    <tr>\n",
       "      <th>3</th>\n",
       "      <td>Group 2</td>\n",
       "      <td>Rural</td>\n",
       "      <td>676</td>\n",
       "      <td>676</td>\n",
       "    </tr>\n",
       "    <tr>\n",
       "      <th>4</th>\n",
       "      <td>Group 2</td>\n",
       "      <td>Suburban</td>\n",
       "      <td>627</td>\n",
       "      <td>627</td>\n",
       "    </tr>\n",
       "    <tr>\n",
       "      <th>5</th>\n",
       "      <td>Group 2</td>\n",
       "      <td>Urban</td>\n",
       "      <td>659</td>\n",
       "      <td>659</td>\n",
       "    </tr>\n",
       "    <tr>\n",
       "      <th>6</th>\n",
       "      <td>Group 3</td>\n",
       "      <td>Rural</td>\n",
       "      <td>807</td>\n",
       "      <td>807</td>\n",
       "    </tr>\n",
       "    <tr>\n",
       "      <th>7</th>\n",
       "      <td>Group 3</td>\n",
       "      <td>Suburban</td>\n",
       "      <td>886</td>\n",
       "      <td>886</td>\n",
       "    </tr>\n",
       "    <tr>\n",
       "      <th>8</th>\n",
       "      <td>Group 3</td>\n",
       "      <td>Urban</td>\n",
       "      <td>888</td>\n",
       "      <td>888</td>\n",
       "    </tr>\n",
       "    <tr>\n",
       "      <th>9</th>\n",
       "      <td>Group 4</td>\n",
       "      <td>Rural</td>\n",
       "      <td>453</td>\n",
       "      <td>453</td>\n",
       "    </tr>\n",
       "    <tr>\n",
       "      <th>10</th>\n",
       "      <td>Group 4</td>\n",
       "      <td>Suburban</td>\n",
       "      <td>450</td>\n",
       "      <td>450</td>\n",
       "    </tr>\n",
       "    <tr>\n",
       "      <th>11</th>\n",
       "      <td>Group 4</td>\n",
       "      <td>Urban</td>\n",
       "      <td>425</td>\n",
       "      <td>425</td>\n",
       "    </tr>\n",
       "  </tbody>\n",
       "</table>\n",
       "</div>"
      ],
      "text/plain": [
       "   Age_Range  Location  Age  Income_Level\n",
       "0    Group 1     Rural  376           376\n",
       "1    Group 1  Suburban  357           357\n",
       "2    Group 1     Urban  396           396\n",
       "3    Group 2     Rural  676           676\n",
       "4    Group 2  Suburban  627           627\n",
       "5    Group 2     Urban  659           659\n",
       "6    Group 3     Rural  807           807\n",
       "7    Group 3  Suburban  886           886\n",
       "8    Group 3     Urban  888           888\n",
       "9    Group 4     Rural  453           453\n",
       "10   Group 4  Suburban  450           450\n",
       "11   Group 4     Urban  425           425"
      ]
     },
     "execution_count": 180,
     "metadata": {},
     "output_type": "execute_result"
    }
   ],
   "source": [
    "Group_X_Location = Demographic_Data.groupby([\"Age_Range\",\"Location\"]).count().reset_index()\n",
    "Group_X_Location"
   ]
  },
  {
   "cell_type": "code",
   "execution_count": 185,
   "id": "1d5504d4",
   "metadata": {},
   "outputs": [
    {
     "data": {
      "text/html": [
       "<div>\n",
       "<style scoped>\n",
       "    .dataframe tbody tr th:only-of-type {\n",
       "        vertical-align: middle;\n",
       "    }\n",
       "\n",
       "    .dataframe tbody tr th {\n",
       "        vertical-align: top;\n",
       "    }\n",
       "\n",
       "    .dataframe thead th {\n",
       "        text-align: right;\n",
       "    }\n",
       "</style>\n",
       "<table border=\"1\" class=\"dataframe\">\n",
       "  <thead>\n",
       "    <tr style=\"text-align: right;\">\n",
       "      <th>Location</th>\n",
       "      <th>Rural</th>\n",
       "      <th>Suburban</th>\n",
       "      <th>Urban</th>\n",
       "    </tr>\n",
       "    <tr>\n",
       "      <th>Age_Range</th>\n",
       "      <th></th>\n",
       "      <th></th>\n",
       "      <th></th>\n",
       "    </tr>\n",
       "  </thead>\n",
       "  <tbody>\n",
       "    <tr>\n",
       "      <th>Group 1</th>\n",
       "      <td>376</td>\n",
       "      <td>357</td>\n",
       "      <td>396</td>\n",
       "    </tr>\n",
       "    <tr>\n",
       "      <th>Group 2</th>\n",
       "      <td>676</td>\n",
       "      <td>627</td>\n",
       "      <td>659</td>\n",
       "    </tr>\n",
       "    <tr>\n",
       "      <th>Group 3</th>\n",
       "      <td>807</td>\n",
       "      <td>886</td>\n",
       "      <td>888</td>\n",
       "    </tr>\n",
       "    <tr>\n",
       "      <th>Group 4</th>\n",
       "      <td>453</td>\n",
       "      <td>450</td>\n",
       "      <td>425</td>\n",
       "    </tr>\n",
       "  </tbody>\n",
       "</table>\n",
       "</div>"
      ],
      "text/plain": [
       "Location   Rural  Suburban  Urban\n",
       "Age_Range                        \n",
       "Group 1      376       357    396\n",
       "Group 2      676       627    659\n",
       "Group 3      807       886    888\n",
       "Group 4      453       450    425"
      ]
     },
     "execution_count": 185,
     "metadata": {},
     "output_type": "execute_result"
    }
   ],
   "source": [
    "# lets do the same exercise to find out where they live.\n",
    "\n",
    "GXL_Summary = Group_X_Location.pivot(\n",
    "    index = \"Age_Range\",\n",
    "    columns = \"Location\",\n",
    "    values = \"Age\"\n",
    ")\n",
    "GXL_Summary"
   ]
  },
  {
   "cell_type": "code",
   "execution_count": 189,
   "id": "b6fe6cba",
   "metadata": {},
   "outputs": [
    {
     "data": {
      "image/png": "[encoded data removed]",
      "text/plain": [
       "<Figure size 640x480 with 1 Axes>"
      ]
     },
     "metadata": {},
     "output_type": "display_data"
    }
   ],
   "source": [
    "GXL_Summary.plot(\n",
    "    kind = \"bar\",\n",
    "    title= \"Customer Distribution by Age Range and Location\",\n",
    "    ylabel= \"Location\",\n",
    "    xlabel= \"Age Range\",\n",
    ")\n",
    "\n",
    "plt.show()"
   ]
  },
  {
   "cell_type": "code",
   "execution_count": 164,
   "id": "b5dff43b",
   "metadata": {},
   "outputs": [
    {
     "name": "stdout",
     "output_type": "stream",
     "text": [
      "Customers in group 2 respresent 28.028571428571432 of the total customers, while group 3 36.871428571428574, and groups 1 and 4 are 35.099999999999994\n"
     ]
    }
   ],
   "source": [
    "# We have seen in all data that groups 1 and 4 are the lower tier, but together they are a big portion of customers, so it is good to keep them\n",
    "# in mind to prevent byas.\n",
    "aggregation1 = Age_below_25.count() + Age_above_60.count()\n",
    "aggregation1 = aggregation1[\"Age\"] / Demographic_Data.count() * 100\n",
    "aggregation1 = aggregation1[\"Age\"]\n",
    "\n",
    "# With this we can see that it is 33.1 of customers, a significant loss if they started to use services less. We will do the same with the others\n",
    "aggregation2 = Age_between_25_and_40.count() / Demographic_Data.count() * 100\n",
    "aggregation2 = aggregation2[\"Age\"]\n",
    "\n",
    "aggregation3 = Age_between_40_and_60.count() / Demographic_Data.count() * 100\n",
    "aggregation3 = aggregation3[\"Age\"]\n",
    "\n",
    "print(f'Customers in group 2 respresent {aggregation2} of the total customers, while group 3 {aggregation3}, and groups 1 and 4 are {aggregation1}')"
   ]
  },
  {
   "cell_type": "markdown",
   "id": "d33c290f",
   "metadata": {},
   "source": [
    "### Now we can anwer whos is my tipical customer, not only as global but also as grouped demographics.\n",
    "\n",
    "#### 1. The majority of customers are in the age range between 40 and 60 years old (36.88%). The second group is a range between 25 and 40 years old (28.1%)\n",
    "#### 2. While group 1 and 4 are almost half of the major group, together they represent a good portion of the market. ( 35.1 %) of total customers.\n",
    "#### 3. The remaining 55.9% of customers are people between the age of 25 and 60 years. Whose income is evenly distributed between low and high. So the user adoption insn't focalized on a particular. income level.\n",
    "#### 4. The location is also evenly distributed across the age groups, we are not offering services to a particular location area.\n",
    "\n",
    "#### Customer proofiling:\n",
    "##### Customers are in average 42 yers old, all of them are equally dsitributed between low medium and high income and they are also located in Rural, Suburban, and Urban areas.\n",
    "\n",
    "##### Group 1: Average age: 20\n",
    "##### Group 2: Average age: 32\n",
    "##### Group 3: Average age: 49\n",
    "##### Group 4: Average age: 64\n",
    "\n",
    "### Business recommendations\n",
    "\n",
    "#### 1. Segmentate the business in two categories, one to cover groups 2 and 3 and one to cover groups 1 and 4. The one focused on groups 2 and 3 should be bigger with more resources to expand the market in what is already the core income for the company. But groups 1 and 4 shouldn't be forgotten as those represent a big part of the businees. \n",
    "#### 2. As customers are equally dsitributed in al location areas, we do not present restrictions for growth. Scope can be widely adopted."
   ]
  },
  {
   "cell_type": "markdown",
   "id": "458c7134",
   "metadata": {},
   "source": [
    "## Transactional analysis\n",
    "#### Demographical data is just part of the story, now we must move to transacational trends to see what are they doing with the services.\n",
    "#### We need to answer: How do they spend? Is it distributed or do we have top tiers? "
   ]
  },
  {
   "cell_type": "code",
   "execution_count": 165,
   "id": "539e4c83",
   "metadata": {},
   "outputs": [
    {
     "data": {
      "text/html": [
       "<div>\n",
       "<style scoped>\n",
       "    .dataframe tbody tr th:only-of-type {\n",
       "        vertical-align: middle;\n",
       "    }\n",
       "\n",
       "    .dataframe tbody tr th {\n",
       "        vertical-align: top;\n",
       "    }\n",
       "\n",
       "    .dataframe thead th {\n",
       "        text-align: right;\n",
       "    }\n",
       "</style>\n",
       "<table border=\"1\" class=\"dataframe\">\n",
       "  <thead>\n",
       "    <tr style=\"text-align: right;\">\n",
       "      <th></th>\n",
       "      <th>Total_Transactions</th>\n",
       "      <th>Avg_Transaction_Value</th>\n",
       "      <th>Max_Transaction_Value</th>\n",
       "      <th>Min_Transaction_Value</th>\n",
       "      <th>Total_Spent</th>\n",
       "    </tr>\n",
       "  </thead>\n",
       "  <tbody>\n",
       "    <tr>\n",
       "      <th>count</th>\n",
       "      <td>7000.000000</td>\n",
       "      <td>7000.000000</td>\n",
       "      <td>7000.000000</td>\n",
       "      <td>7000.000000</td>\n",
       "      <td>7.000000e+03</td>\n",
       "    </tr>\n",
       "    <tr>\n",
       "      <th>mean</th>\n",
       "      <td>501.221429</td>\n",
       "      <td>9946.831482</td>\n",
       "      <td>30159.596784</td>\n",
       "      <td>2981.549953</td>\n",
       "      <td>5.002022e+06</td>\n",
       "    </tr>\n",
       "    <tr>\n",
       "      <th>std</th>\n",
       "      <td>286.277311</td>\n",
       "      <td>5780.880831</td>\n",
       "      <td>21996.108793</td>\n",
       "      <td>2197.342161</td>\n",
       "      <td>4.390495e+06</td>\n",
       "    </tr>\n",
       "    <tr>\n",
       "      <th>min</th>\n",
       "      <td>1.000000</td>\n",
       "      <td>10.185827</td>\n",
       "      <td>31.857484</td>\n",
       "      <td>4.617966</td>\n",
       "      <td>1.498144e+03</td>\n",
       "    </tr>\n",
       "    <tr>\n",
       "      <th>25%</th>\n",
       "      <td>252.000000</td>\n",
       "      <td>4907.466790</td>\n",
       "      <td>12224.329366</td>\n",
       "      <td>1233.066226</td>\n",
       "      <td>1.363991e+06</td>\n",
       "    </tr>\n",
       "    <tr>\n",
       "      <th>50%</th>\n",
       "      <td>506.000000</td>\n",
       "      <td>9841.172643</td>\n",
       "      <td>25469.392130</td>\n",
       "      <td>2473.181073</td>\n",
       "      <td>3.756105e+06</td>\n",
       "    </tr>\n",
       "    <tr>\n",
       "      <th>75%</th>\n",
       "      <td>744.000000</td>\n",
       "      <td>14955.048801</td>\n",
       "      <td>44515.414177</td>\n",
       "      <td>4378.759195</td>\n",
       "      <td>7.645508e+06</td>\n",
       "    </tr>\n",
       "    <tr>\n",
       "      <th>max</th>\n",
       "      <td>1000.000000</td>\n",
       "      <td>19996.445086</td>\n",
       "      <td>98809.241533</td>\n",
       "      <td>9917.028823</td>\n",
       "      <td>1.946773e+07</td>\n",
       "    </tr>\n",
       "  </tbody>\n",
       "</table>\n",
       "</div>"
      ],
      "text/plain": [
       "       Total_Transactions  Avg_Transaction_Value  Max_Transaction_Value  \\\n",
       "count         7000.000000            7000.000000            7000.000000   \n",
       "mean           501.221429            9946.831482           30159.596784   \n",
       "std            286.277311            5780.880831           21996.108793   \n",
       "min              1.000000              10.185827              31.857484   \n",
       "25%            252.000000            4907.466790           12224.329366   \n",
       "50%            506.000000            9841.172643           25469.392130   \n",
       "75%            744.000000           14955.048801           44515.414177   \n",
       "max           1000.000000           19996.445086           98809.241533   \n",
       "\n",
       "       Min_Transaction_Value   Total_Spent  \n",
       "count            7000.000000  7.000000e+03  \n",
       "mean             2981.549953  5.002022e+06  \n",
       "std              2197.342161  4.390495e+06  \n",
       "min                 4.617966  1.498144e+03  \n",
       "25%              1233.066226  1.363991e+06  \n",
       "50%              2473.181073  3.756105e+06  \n",
       "75%              4378.759195  7.645508e+06  \n",
       "max              9917.028823  1.946773e+07  "
      ]
     },
     "execution_count": 165,
     "metadata": {},
     "output_type": "execute_result"
    }
   ],
   "source": [
    "# With transactional data we have a challenge, as we don;t have distributions for customers. \n",
    "# All we have are 7000 records and those are taken as 7000 different customers.\n",
    "# This means that we can't identify spend groups or usage tracking. \n",
    "# So we will use standard analysis as this data is useful fro global insights\n",
    "\n",
    "Transaction_Trends.describe()"
   ]
  },
  {
   "cell_type": "code",
   "execution_count": 166,
   "id": "5e48644e",
   "metadata": {},
   "outputs": [
    {
     "name": "stdout",
     "output_type": "stream",
     "text": [
      "The average spend is distributed as Total 69627820, Average 9946, Minimun 10 and max 19996\n",
      "The quatiles dsitribution is 0.25     4907.466790\n",
      "0.50     9841.172643\n",
      "0.75    14955.048801\n",
      "Name: Avg_Transaction_Value, dtype: float64\n"
     ]
    }
   ],
   "source": [
    "Total_Average_spend = int(Transaction_Trends[\"Avg_Transaction_Value\"].sum())\n",
    "Mean_Average_spend = int(Transaction_Trends[\"Avg_Transaction_Value\"].mean())\n",
    "Min_Average_spend = int(Transaction_Trends[\"Avg_Transaction_Value\"].min())\n",
    "q_Average_spend = Transaction_Trends[\"Avg_Transaction_Value\"].quantile([0.25,0.5,0.75])\n",
    "Max_Average_spend = int(Transaction_Trends[\"Avg_Transaction_Value\"].max())\n",
    "q3 = Transaction_Trends[\"Avg_Transaction_Value\"].quantile(0.75)\n",
    "print(f'The average spend is distributed as Total {Total_Average_spend}, Average {Mean_Average_spend}, Minimun {Min_Average_spend} and max {Max_Average_spend}')\n",
    "print(f'The quatiles dsitribution is {q_Average_spend}')\n",
    "\n",
    "# Now we can extract those to use them for insights and grpahs. \n"
   ]
  },
  {
   "cell_type": "code",
   "execution_count": 167,
   "id": "1bde30b7",
   "metadata": {},
   "outputs": [],
   "source": [
    "# We want to check customers that spend more than average, we will use the mean already extracted and compare\n",
    "\n",
    "above_avg_spenders = Transaction_Trends[Transaction_Trends[\"Avg_Transaction_Value\"] >= Mean_Average_spend]\n",
    "above_avg_spender_Count = above_avg_spenders[\"Customer_ID\"].count()\n",
    "below_avg_spenders = Transaction_Trends[Transaction_Trends[\"Avg_Transaction_Value\"] <= Mean_Average_spend]\n",
    "below_avg_spender_Count = below_avg_spenders[\"Customer_ID\"].count()"
   ]
  },
  {
   "cell_type": "code",
   "execution_count": 168,
   "id": "4089b5e2",
   "metadata": {},
   "outputs": [
    {
     "data": {
      "text/plain": [
       "np.float64(49.528571428571425)"
      ]
     },
     "execution_count": 168,
     "metadata": {},
     "output_type": "execute_result"
    }
   ],
   "source": [
    "percent_above = above_avg_spender_Count/7000 * 100\n",
    "percent_above"
   ]
  },
  {
   "cell_type": "code",
   "execution_count": 195,
   "id": "6d0e351e",
   "metadata": {},
   "outputs": [
    {
     "data": {
      "text/plain": [
       "Text(0.5, 1.0, 'Spenders')"
      ]
     },
     "execution_count": 195,
     "metadata": {},
     "output_type": "execute_result"
    }
   ],
   "source": [
    "#Now we will compere average spenders in a pie chart\n",
    "values = [above_avg_spender_Count, below_avg_spender_Count]\n",
    "label = [\"above_avg_spender_Count\", \"below_avg_spender_Count\"]  \n",
    "\n",
    "pie, ax = plt.subplots()\n",
    "\n",
    "ax.pie(\n",
    "    values,\n",
    "    labels=label\n",
    ")\n",
    "ax.set_title(\"Spenders\")\n",
    "\n"
   ]
  },
  {
   "cell_type": "markdown",
   "id": "f8ed2e3a",
   "metadata": {},
   "source": [
    "##### Now we have enought to answer the initial questions:\n",
    "\n",
    "##### The average spend is distributed as Total 69627820, Average 9946, Minimun 10 and max 19996\n",
    "##### The quatiles Distribution is \n",
    "##### - 0.25     4907.466790\n",
    "##### - 0.50     9841.172643\n",
    "##### - 0.75    14955.048801\n",
    "##### 49% of customers spend above the average, wich means that there is a healthy customer base spend.\n",
    "\n",
    "### Business recommendation\n",
    "##### There is no need to segmentate the services yet as the income is equally distributed in spend, as we saw with demographics we could prioritize adoption over spend amount."
   ]
  }
 ],
 "metadata": {
  "kernelspec": {
   "display_name": "fresh_ds",
   "language": "python",
   "name": "python3"
  },
  "language_info": {
   "codemirror_mode": {
    "name": "ipython",
    "version": 3
   },
   "file_extension": ".py",
   "mimetype": "text/x-python",
   "name": "python",
   "nbconvert_exporter": "python",
   "pygments_lexer": "ipython3",
   "version": "3.12.11"
  }
 },
 "nbformat": 4,
 "nbformat_minor": 5
}
